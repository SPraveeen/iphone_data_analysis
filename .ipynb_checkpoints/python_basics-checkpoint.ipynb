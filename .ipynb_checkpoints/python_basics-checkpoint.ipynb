{
 "cells": [
  {
   "cell_type": "code",
   "execution_count": 1,
   "id": "c154717d-e291-427c-beff-3944eab27c68",
   "metadata": {},
   "outputs": [
    {
     "name": "stdout",
     "output_type": "stream",
     "text": [
      "Hello data world\n"
     ]
    }
   ],
   "source": [
    "print('Hello data world')"
   ]
  },
  {
   "cell_type": "code",
   "execution_count": 1,
   "id": "c279a8d9-9e54-4196-b8b6-47cde5ee1e7d",
   "metadata": {},
   "outputs": [
    {
     "name": "stdout",
     "output_type": "stream",
     "text": [
      "helloworld\n"
     ]
    }
   ],
   "source": [
    "a1='hello'\n",
    "a2='world'\n",
    "print(a1+a2)"
   ]
  },
  {
   "cell_type": "code",
   "execution_count": 2,
   "id": "0aae3d8a-1aa0-40ad-b784-bac77b91a679",
   "metadata": {},
   "outputs": [
    {
     "name": "stdout",
     "output_type": "stream",
     "text": [
      "hello world\n"
     ]
    }
   ],
   "source": [
    "print(a1+\" \"+a2)"
   ]
  },
  {
   "cell_type": "code",
   "execution_count": 4,
   "id": "212560ea-fc19-4a7f-8748-f80fa090e6dd",
   "metadata": {},
   "outputs": [
    {
     "name": "stdout",
     "output_type": "stream",
     "text": [
      "hello_hello_hello_hello_hello_\n",
      "_ __ __ __ __ __ __ __ __ __ _\n"
     ]
    }
   ],
   "source": [
    "print('hello_'*5)\n",
    "print('_ _'*10)"
   ]
  },
  {
   "cell_type": "code",
   "execution_count": 11,
   "id": "c0d95604-5a8f-4618-bd7f-ed5d4a52e0d1",
   "metadata": {},
   "outputs": [
    {
     "name": "stdout",
     "output_type": "stream",
     "text": [
      "World\n",
      "ste\n"
     ]
    }
   ],
   "source": [
    "a=\"Namaste World\"\n",
    "print(a[-5:])\n",
    "print(a[4:7])"
   ]
  },
  {
   "cell_type": "code",
   "execution_count": 14,
   "id": "93a4a0f2-3d7e-41f5-a835-abd36c2a2f99",
   "metadata": {},
   "outputs": [
    {
     "name": "stdout",
     "output_type": "stream",
     "text": [
      "my name is sugu, my age is 23, i in it\n",
      "my name is sugu, my age is 23, i in it\n",
      "my name is sugu, my age is 23, i in it\n"
     ]
    }
   ],
   "source": [
    "name='sugu'\n",
    "age=23\n",
    "dept='it'\n",
    "print('my name is %s, my age is %s, i in %s'%(name,age,dept))\n",
    "print('my name is {}, my age is {}, i in {}'.format(name,age,dept))\n",
    "print(f'my name is {name}, my age is {age}, i in {dept}')"
   ]
  },
  {
   "cell_type": "code",
   "execution_count": 15,
   "id": "44235ac5-cc67-4f23-a7be-b6b5b87acde0",
   "metadata": {},
   "outputs": [
    {
     "name": "stdout",
     "output_type": "stream",
     "text": [
      "7.5\n"
     ]
    }
   ],
   "source": [
    "a=5\n",
    "b=10\n",
    "mean=(a+b)/2\n",
    "print(mean)"
   ]
  },
  {
   "cell_type": "markdown",
   "id": "9986cd07-4e8b-496b-b79d-e69a1ef246a2",
   "metadata": {},
   "source": [
    "- Data Structures in python\n",
    "- list []\n",
    "- dictionary {'keys':values}\n",
    "- tuples ()\n",
    "- set {}"
   ]
  },
  {
   "cell_type": "markdown",
   "id": "6bf6e8c5-c280-4e7c-9d34-ce6526f057a5",
   "metadata": {},
   "source": [
    "- list allows duplicates"
   ]
  },
  {
   "cell_type": "code",
   "execution_count": 16,
   "id": "a5e84e66-5f7c-4ca1-a56b-a53b69253807",
   "metadata": {},
   "outputs": [],
   "source": [
    "l=[20,'jessa',35.45,[20,30,40]]"
   ]
  },
  {
   "cell_type": "code",
   "execution_count": 17,
   "id": "90a28e3f-5136-4d2f-83b5-7de948f1759d",
   "metadata": {},
   "outputs": [
    {
     "data": {
      "text/plain": [
       "20"
      ]
     },
     "execution_count": 17,
     "metadata": {},
     "output_type": "execute_result"
    }
   ],
   "source": [
    "l[0]"
   ]
  },
  {
   "cell_type": "code",
   "execution_count": 18,
   "id": "10922bca-84ef-44e0-9bca-318a71729c9b",
   "metadata": {},
   "outputs": [
    {
     "data": {
      "text/plain": [
       "4"
      ]
     },
     "execution_count": 18,
     "metadata": {},
     "output_type": "execute_result"
    }
   ],
   "source": [
    "len(l)"
   ]
  },
  {
   "cell_type": "markdown",
   "id": "5837c4a4-3ab8-46bf-a217-af088289e42e",
   "metadata": {},
   "source": [
    "- add new element to list"
   ]
  },
  {
   "cell_type": "code",
   "execution_count": 19,
   "id": "caffd452-b388-4d5a-b30d-572ade3c4e12",
   "metadata": {},
   "outputs": [],
   "source": [
    "l.append('shanmugam')"
   ]
  },
  {
   "cell_type": "code",
   "execution_count": 20,
   "id": "2b7b48ab-c946-4deb-a40c-c955470ef31f",
   "metadata": {},
   "outputs": [
    {
     "data": {
      "text/plain": [
       "[20, 'jessa', 35.45, [20, 30, 40], 'shanmugam']"
      ]
     },
     "execution_count": 20,
     "metadata": {},
     "output_type": "execute_result"
    }
   ],
   "source": [
    "l"
   ]
  },
  {
   "cell_type": "code",
   "execution_count": 21,
   "id": "b006a9b4-427b-4696-ab3d-707b09f5b949",
   "metadata": {},
   "outputs": [],
   "source": [
    "l.extend([4,5,6])"
   ]
  },
  {
   "cell_type": "code",
   "execution_count": 22,
   "id": "1fd3218e-6a98-4419-a2e0-c1e6437e3ae6",
   "metadata": {},
   "outputs": [
    {
     "data": {
      "text/plain": [
       "[20, 'jessa', 35.45, [20, 30, 40], 'shanmugam', 4, 5, 6]"
      ]
     },
     "execution_count": 22,
     "metadata": {},
     "output_type": "execute_result"
    }
   ],
   "source": [
    "l"
   ]
  },
  {
   "cell_type": "code",
   "execution_count": 23,
   "id": "777a9b68-c94b-4847-8f95-8306a1fcd7ac",
   "metadata": {},
   "outputs": [
    {
     "data": {
      "text/plain": [
       "[20, 'jessa', 35.45, [20, 30, 40], 'shanmugam', 4, 5, 6, [7, 8, 9]]"
      ]
     },
     "execution_count": 23,
     "metadata": {},
     "output_type": "execute_result"
    }
   ],
   "source": [
    "l.append([7,8,9])\n",
    "l"
   ]
  },
  {
   "cell_type": "markdown",
   "id": "6099f515-3188-46d3-b241-df33a3ee06fe",
   "metadata": {},
   "source": [
    "- append (extract and gives values different index)\n",
    "- extend (gives a single array/index)"
   ]
  },
  {
   "cell_type": "markdown",
   "id": "e7e61210-0009-4a27-859d-d9b5af389285",
   "metadata": {},
   "source": [
    "- list_object[start:end:step]"
   ]
  },
  {
   "cell_type": "code",
   "execution_count": 24,
   "id": "7c881d85-9b2a-41f8-a175-68be4a2afa51",
   "metadata": {},
   "outputs": [
    {
     "name": "stdout",
     "output_type": "stream",
     "text": [
      "0\n",
      "1\n",
      "2\n",
      "3\n",
      "4\n",
      "5\n",
      "6\n",
      "7\n",
      "8\n",
      "9\n"
     ]
    }
   ],
   "source": [
    "l=list(range(10))\n",
    "for i in l:\n",
    "    print(i)"
   ]
  },
  {
   "cell_type": "code",
   "execution_count": 26,
   "id": "85315d1c-898a-4a39-837b-6f237a3fd1ad",
   "metadata": {},
   "outputs": [
    {
     "name": "stdout",
     "output_type": "stream",
     "text": [
      "[2, 4, 6]\n"
     ]
    }
   ],
   "source": [
    "print(l[2:8:2])"
   ]
  },
  {
   "cell_type": "code",
   "execution_count": 27,
   "id": "ba7c150f-03a7-47bc-b3ca-4f60eff52317",
   "metadata": {},
   "outputs": [
    {
     "data": {
      "text/plain": [
       "['darun', 0, 1, 2, 3, 4, 5, 6, 7, 8, 9]"
      ]
     },
     "execution_count": 27,
     "metadata": {},
     "output_type": "execute_result"
    }
   ],
   "source": [
    "l.insert(0,'darun')\n",
    "l"
   ]
  },
  {
   "cell_type": "code",
   "execution_count": null,
   "id": "df7c5206-9377-46a3-9326-639a8241d113",
   "metadata": {},
   "outputs": [],
   "source": []
  }
 ],
 "metadata": {
  "kernelspec": {
   "display_name": "Python 3 (ipykernel)",
   "language": "python",
   "name": "python3"
  },
  "language_info": {
   "codemirror_mode": {
    "name": "ipython",
    "version": 3
   },
   "file_extension": ".py",
   "mimetype": "text/x-python",
   "name": "python",
   "nbconvert_exporter": "python",
   "pygments_lexer": "ipython3",
   "version": "3.13.3"
  }
 },
 "nbformat": 4,
 "nbformat_minor": 5
}
