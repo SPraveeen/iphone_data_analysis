{
 "cells": [
  {
   "cell_type": "code",
   "execution_count": 1,
   "id": "c154717d-e291-427c-beff-3944eab27c68",
   "metadata": {},
   "outputs": [
    {
     "name": "stdout",
     "output_type": "stream",
     "text": [
      "Hello data world\n"
     ]
    }
   ],
   "source": [
    "print('Hello data world')"
   ]
  },
  {
   "cell_type": "code",
   "execution_count": 1,
   "id": "c279a8d9-9e54-4196-b8b6-47cde5ee1e7d",
   "metadata": {},
   "outputs": [
    {
     "name": "stdout",
     "output_type": "stream",
     "text": [
      "helloworld\n"
     ]
    }
   ],
   "source": [
    "a1='hello'\n",
    "a2='world'\n",
    "print(a1+a2)"
   ]
  },
  {
   "cell_type": "code",
   "execution_count": 2,
   "id": "0aae3d8a-1aa0-40ad-b784-bac77b91a679",
   "metadata": {},
   "outputs": [
    {
     "name": "stdout",
     "output_type": "stream",
     "text": [
      "hello world\n"
     ]
    }
   ],
   "source": [
    "print(a1+\" \"+a2)"
   ]
  },
  {
   "cell_type": "code",
   "execution_count": 4,
   "id": "212560ea-fc19-4a7f-8748-f80fa090e6dd",
   "metadata": {},
   "outputs": [
    {
     "name": "stdout",
     "output_type": "stream",
     "text": [
      "hello_hello_hello_hello_hello_\n",
      "_ __ __ __ __ __ __ __ __ __ _\n"
     ]
    }
   ],
   "source": [
    "print('hello_'*5)\n",
    "print('_ _'*10)"
   ]
  },
  {
   "cell_type": "code",
   "execution_count": null,
   "id": "c0d95604-5a8f-4618-bd7f-ed5d4a52e0d1",
   "metadata": {},
   "outputs": [],
   "source": []
  }
 ],
 "metadata": {
  "kernelspec": {
   "display_name": "Python 3 (ipykernel)",
   "language": "python",
   "name": "python3"
  },
  "language_info": {
   "codemirror_mode": {
    "name": "ipython",
    "version": 3
   },
   "file_extension": ".py",
   "mimetype": "text/x-python",
   "name": "python",
   "nbconvert_exporter": "python",
   "pygments_lexer": "ipython3",
   "version": "3.13.3"
  }
 },
 "nbformat": 4,
 "nbformat_minor": 5
}
