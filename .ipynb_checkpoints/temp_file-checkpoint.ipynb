{
 "cells": [
  {
   "cell_type": "code",
   "execution_count": 1,
   "id": "15af4e48-5972-4673-92b9-05ea70c56b3a",
   "metadata": {},
   "outputs": [],
   "source": [
    "import json\n",
    "import os\n",
    "import spotipy\n",
    "from spotipy.oauth2 import SpotifyClientCredentials\n",
    "import boto3\n",
    "from datetime import datetime\n",
    "\n",
    "def lambda_handler(event, context):\n",
    "    client_id=os.environ.get('client_id')\n",
    "    client_secret=os.environ.get('client_secret')\n",
    "\n",
    "    client_credentials_manager=SpotifyClientCredentials(client_id=client_id,\n",
    "                                                    client_secret=client_secret)\n",
    "    sp=spotipy.Spotify(client_credentials_manager=client_credentials_manager)\n",
    "    playlists=sp.user_playlists('spotify')\n",
    "    playlist_link=\"https://open.spotify.com/playlist/6VOedaf3eNWDOVpa9Qdlvg\"\n",
    "    playlist_URI=playlist_link.split('/')[-1]\n",
    "    \n",
    "    spotify_data=sp.playlist_tracks(playlist_URI)\n",
    "    \n",
    "    client=boto3.client('s3')\n",
    "    filename='spotify_raw_'+str(datetime.now())+'.json'\n",
    "    client.put_object(\n",
    "        Bucket='spotify-etl-project-praveen1',\n",
    "        Key='raw_data/to_processed/' + filename,\n",
    "        Body=json.dumps(spotify_data)\n",
    "        )"
   ]
  },
  {
   "cell_type": "code",
   "execution_count": null,
   "id": "2a093dbd-7037-421e-a47a-57a31f95a5fd",
   "metadata": {},
   "outputs": [],
   "source": [
    "import json\n",
    "import os\n",
    "import spotipy\n",
    "from spotipy.oauth2 import SpotifyClientCredentials\n",
    "\n",
    "def lambda_handler(event, context):\n",
    "    client_id=os.environ.get('client_id')\n",
    "    client_secret=os.environ.get('client_secret')\n",
    "\n",
    "    client_credentials_manager=SpotifyClientCredentials(client_id=client_id,\n",
    "                                                    client_secret=client_secret)\n",
    "    sp=spotipy.Spotify(client_credentials_manager=client_credentials_manager)\n",
    "    playlists=sp.user_playlists('spotify')\n",
    "    playlist_link=\"https://open.spotify.com/playlist/6VOedaf3eNWDOVpa9Qdlvg\"\n",
    "    playlist_URI=playlist_link.split('/')[-1]\n",
    "    \n",
    "    spotify_data=sp.playlist_tracks(playlist_URI)\n",
    "\n",
    "    print(spotify_data)"
   ]
  }
 ],
 "metadata": {
  "kernelspec": {
   "display_name": "Python 3 (ipykernel)",
   "language": "python",
   "name": "python3"
  },
  "language_info": {
   "codemirror_mode": {
    "name": "ipython",
    "version": 3
   },
   "file_extension": ".py",
   "mimetype": "text/x-python",
   "name": "python",
   "nbconvert_exporter": "python",
   "pygments_lexer": "ipython3",
   "version": "3.13.3"
  }
 },
 "nbformat": 4,
 "nbformat_minor": 5
}
