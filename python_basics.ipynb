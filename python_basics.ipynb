{
 "cells": [
  {
   "cell_type": "code",
   "execution_count": 1,
   "id": "c154717d-e291-427c-beff-3944eab27c68",
   "metadata": {},
   "outputs": [
    {
     "name": "stdout",
     "output_type": "stream",
     "text": [
      "Hello data world\n"
     ]
    }
   ],
   "source": [
    "print('Hello data world')"
   ]
  },
  {
   "cell_type": "code",
   "execution_count": 1,
   "id": "c279a8d9-9e54-4196-b8b6-47cde5ee1e7d",
   "metadata": {},
   "outputs": [
    {
     "name": "stdout",
     "output_type": "stream",
     "text": [
      "helloworld\n"
     ]
    }
   ],
   "source": [
    "a1='hello'\n",
    "a2='world'\n",
    "print(a1+a2)"
   ]
  },
  {
   "cell_type": "code",
   "execution_count": 2,
   "id": "0aae3d8a-1aa0-40ad-b784-bac77b91a679",
   "metadata": {},
   "outputs": [
    {
     "name": "stdout",
     "output_type": "stream",
     "text": [
      "hello world\n"
     ]
    }
   ],
   "source": [
    "print(a1+\" \"+a2)"
   ]
  },
  {
   "cell_type": "code",
   "execution_count": 4,
   "id": "212560ea-fc19-4a7f-8748-f80fa090e6dd",
   "metadata": {},
   "outputs": [
    {
     "name": "stdout",
     "output_type": "stream",
     "text": [
      "hello_hello_hello_hello_hello_\n",
      "_ __ __ __ __ __ __ __ __ __ _\n"
     ]
    }
   ],
   "source": [
    "print('hello_'*5)\n",
    "print('_ _'*10)"
   ]
  },
  {
   "cell_type": "code",
   "execution_count": 11,
   "id": "c0d95604-5a8f-4618-bd7f-ed5d4a52e0d1",
   "metadata": {},
   "outputs": [
    {
     "name": "stdout",
     "output_type": "stream",
     "text": [
      "World\n",
      "ste\n"
     ]
    }
   ],
   "source": [
    "a=\"Namaste World\"\n",
    "print(a[-5:])\n",
    "print(a[4:7])"
   ]
  },
  {
   "cell_type": "code",
   "execution_count": 14,
   "id": "93a4a0f2-3d7e-41f5-a835-abd36c2a2f99",
   "metadata": {},
   "outputs": [
    {
     "name": "stdout",
     "output_type": "stream",
     "text": [
      "my name is sugu, my age is 23, i in it\n",
      "my name is sugu, my age is 23, i in it\n",
      "my name is sugu, my age is 23, i in it\n"
     ]
    }
   ],
   "source": [
    "name='sugu'\n",
    "age=23\n",
    "dept='it'\n",
    "print('my name is %s, my age is %s, i in %s'%(name,age,dept))\n",
    "print('my name is {}, my age is {}, i in {}'.format(name,age,dept))\n",
    "print(f'my name is {name}, my age is {age}, i in {dept}')"
   ]
  },
  {
   "cell_type": "code",
   "execution_count": 15,
   "id": "44235ac5-cc67-4f23-a7be-b6b5b87acde0",
   "metadata": {},
   "outputs": [
    {
     "name": "stdout",
     "output_type": "stream",
     "text": [
      "7.5\n"
     ]
    }
   ],
   "source": [
    "a=5\n",
    "b=10\n",
    "mean=(a+b)/2\n",
    "print(mean)"
   ]
  },
  {
   "cell_type": "markdown",
   "id": "9986cd07-4e8b-496b-b79d-e69a1ef246a2",
   "metadata": {},
   "source": [
    "- Data Structures in python\n",
    "- list []\n",
    "- dictionary {'keys':values}\n",
    "- tuples ()\n",
    "- set {}"
   ]
  },
  {
   "cell_type": "markdown",
   "id": "6bf6e8c5-c280-4e7c-9d34-ce6526f057a5",
   "metadata": {},
   "source": [
    "- list allows duplicates"
   ]
  },
  {
   "cell_type": "code",
   "execution_count": 16,
   "id": "a5e84e66-5f7c-4ca1-a56b-a53b69253807",
   "metadata": {},
   "outputs": [],
   "source": [
    "l=[20,'jessa',35.45,[20,30,40]]"
   ]
  },
  {
   "cell_type": "code",
   "execution_count": 17,
   "id": "90a28e3f-5136-4d2f-83b5-7de948f1759d",
   "metadata": {},
   "outputs": [
    {
     "data": {
      "text/plain": [
       "20"
      ]
     },
     "execution_count": 17,
     "metadata": {},
     "output_type": "execute_result"
    }
   ],
   "source": [
    "l[0]"
   ]
  },
  {
   "cell_type": "code",
   "execution_count": 18,
   "id": "10922bca-84ef-44e0-9bca-318a71729c9b",
   "metadata": {},
   "outputs": [
    {
     "data": {
      "text/plain": [
       "4"
      ]
     },
     "execution_count": 18,
     "metadata": {},
     "output_type": "execute_result"
    }
   ],
   "source": [
    "len(l)"
   ]
  },
  {
   "cell_type": "markdown",
   "id": "5837c4a4-3ab8-46bf-a217-af088289e42e",
   "metadata": {},
   "source": [
    "- add new element to list"
   ]
  },
  {
   "cell_type": "code",
   "execution_count": 19,
   "id": "caffd452-b388-4d5a-b30d-572ade3c4e12",
   "metadata": {},
   "outputs": [],
   "source": [
    "l.append('shanmugam')"
   ]
  },
  {
   "cell_type": "code",
   "execution_count": 20,
   "id": "2b7b48ab-c946-4deb-a40c-c955470ef31f",
   "metadata": {},
   "outputs": [
    {
     "data": {
      "text/plain": [
       "[20, 'jessa', 35.45, [20, 30, 40], 'shanmugam']"
      ]
     },
     "execution_count": 20,
     "metadata": {},
     "output_type": "execute_result"
    }
   ],
   "source": [
    "l"
   ]
  },
  {
   "cell_type": "code",
   "execution_count": 21,
   "id": "b006a9b4-427b-4696-ab3d-707b09f5b949",
   "metadata": {},
   "outputs": [],
   "source": [
    "l.extend([4,5,6])"
   ]
  },
  {
   "cell_type": "code",
   "execution_count": 22,
   "id": "1fd3218e-6a98-4419-a2e0-c1e6437e3ae6",
   "metadata": {},
   "outputs": [
    {
     "data": {
      "text/plain": [
       "[20, 'jessa', 35.45, [20, 30, 40], 'shanmugam', 4, 5, 6]"
      ]
     },
     "execution_count": 22,
     "metadata": {},
     "output_type": "execute_result"
    }
   ],
   "source": [
    "l"
   ]
  },
  {
   "cell_type": "code",
   "execution_count": 23,
   "id": "777a9b68-c94b-4847-8f95-8306a1fcd7ac",
   "metadata": {},
   "outputs": [
    {
     "data": {
      "text/plain": [
       "[20, 'jessa', 35.45, [20, 30, 40], 'shanmugam', 4, 5, 6, [7, 8, 9]]"
      ]
     },
     "execution_count": 23,
     "metadata": {},
     "output_type": "execute_result"
    }
   ],
   "source": [
    "l.append([7,8,9])\n",
    "l"
   ]
  },
  {
   "cell_type": "markdown",
   "id": "6099f515-3188-46d3-b241-df33a3ee06fe",
   "metadata": {},
   "source": [
    "- append (extract and gives values different index)\n",
    "- extend (gives a single array/index)"
   ]
  },
  {
   "cell_type": "markdown",
   "id": "e7e61210-0009-4a27-859d-d9b5af389285",
   "metadata": {},
   "source": [
    "- list_object[start:end:step]"
   ]
  },
  {
   "cell_type": "code",
   "execution_count": 24,
   "id": "7c881d85-9b2a-41f8-a175-68be4a2afa51",
   "metadata": {},
   "outputs": [
    {
     "name": "stdout",
     "output_type": "stream",
     "text": [
      "0\n",
      "1\n",
      "2\n",
      "3\n",
      "4\n",
      "5\n",
      "6\n",
      "7\n",
      "8\n",
      "9\n"
     ]
    }
   ],
   "source": [
    "l=list(range(10))\n",
    "for i in l:\n",
    "    print(i)"
   ]
  },
  {
   "cell_type": "code",
   "execution_count": 26,
   "id": "85315d1c-898a-4a39-837b-6f237a3fd1ad",
   "metadata": {},
   "outputs": [
    {
     "name": "stdout",
     "output_type": "stream",
     "text": [
      "[2, 4, 6]\n"
     ]
    }
   ],
   "source": [
    "print(l[2:8:2])"
   ]
  },
  {
   "cell_type": "code",
   "execution_count": 27,
   "id": "ba7c150f-03a7-47bc-b3ca-4f60eff52317",
   "metadata": {},
   "outputs": [
    {
     "data": {
      "text/plain": [
       "['darun', 0, 1, 2, 3, 4, 5, 6, 7, 8, 9]"
      ]
     },
     "execution_count": 27,
     "metadata": {},
     "output_type": "execute_result"
    }
   ],
   "source": [
    "l.insert(0,'darun')\n",
    "l"
   ]
  },
  {
   "cell_type": "markdown",
   "id": "92ae9708-e2cf-458c-95a5-01580d0f72a3",
   "metadata": {},
   "source": [
    "- dictionary"
   ]
  },
  {
   "cell_type": "markdown",
   "id": "dc24ea72-59ec-4d9b-b794-565d7545c9f7",
   "metadata": {},
   "source": [
    "- store duplicate values but not duplicate keys"
   ]
  },
  {
   "cell_type": "markdown",
   "id": "762c20d0-f059-4583-b739-99ca5e73b539",
   "metadata": {},
   "source": [
    "- sets {to store unique values} "
   ]
  },
  {
   "cell_type": "code",
   "execution_count": 1,
   "id": "670f6050-6975-42fb-a22c-279d9b838af8",
   "metadata": {},
   "outputs": [],
   "source": [
    "l={1,1,1,1,2,2,3,3,}"
   ]
  },
  {
   "cell_type": "code",
   "execution_count": 2,
   "id": "951f0f19-4710-4681-a61d-60a049447e06",
   "metadata": {},
   "outputs": [
    {
     "name": "stdout",
     "output_type": "stream",
     "text": [
      "{1, 2, 3}\n"
     ]
    }
   ],
   "source": [
    "a=set(l)\n",
    "print(a)"
   ]
  },
  {
   "cell_type": "code",
   "execution_count": 3,
   "id": "c455508e-b7af-4cc9-8a43-480146a37333",
   "metadata": {},
   "outputs": [
    {
     "data": {
      "text/plain": [
       "{1}"
      ]
     },
     "execution_count": 3,
     "metadata": {},
     "output_type": "execute_result"
    }
   ],
   "source": [
    "x=set()\n",
    "x.add(1)\n",
    "x"
   ]
  },
  {
   "cell_type": "code",
   "execution_count": 4,
   "id": "23a796dd-f9c1-4532-ac27-64e52cb6c218",
   "metadata": {},
   "outputs": [],
   "source": [
    "x.add(2)"
   ]
  },
  {
   "cell_type": "code",
   "execution_count": 5,
   "id": "6ea720fd-5c83-413a-a7e2-2dae42ea9bbc",
   "metadata": {},
   "outputs": [
    {
     "data": {
      "text/plain": [
       "{1, 2}"
      ]
     },
     "execution_count": 5,
     "metadata": {},
     "output_type": "execute_result"
    }
   ],
   "source": [
    "x"
   ]
  },
  {
   "cell_type": "code",
   "execution_count": 6,
   "id": "0a42f2ba-f774-4668-9905-9dad417db188",
   "metadata": {},
   "outputs": [],
   "source": [
    "l={1,1,1,2,2,2,3,4,5,6,1,2}"
   ]
  },
  {
   "cell_type": "code",
   "execution_count": 7,
   "id": "b70780d1-18ce-43e1-a4db-187c7751ba6a",
   "metadata": {},
   "outputs": [
    {
     "data": {
      "text/plain": [
       "{1, 2, 3, 4, 5, 6}"
      ]
     },
     "execution_count": 7,
     "metadata": {},
     "output_type": "execute_result"
    }
   ],
   "source": [
    "set(l)"
   ]
  },
  {
   "cell_type": "markdown",
   "id": "2ddf0332-64db-4b47-933f-fc84f0090403",
   "metadata": {},
   "source": [
    "- tuples"
   ]
  },
  {
   "cell_type": "markdown",
   "id": "945c807d-2266-4cd5-864a-db545c3af7da",
   "metadata": {},
   "source": [
    "- store multiple items\n",
    "- tuples are not mutables"
   ]
  },
  {
   "cell_type": "code",
   "execution_count": 9,
   "id": "be85330a-6741-4b3d-8004-051f01e6e19c",
   "metadata": {},
   "outputs": [
    {
     "name": "stdout",
     "output_type": "stream",
     "text": [
      "<class 'tuple'>\n"
     ]
    }
   ],
   "source": [
    "thistuple=('apple','banana','cherry')\n",
    "print(type(thistuple))"
   ]
  },
  {
   "attachments": {
    "9e2ae822-b400-46e3-9e71-d5e96fbd54ce.png": {
     "image/png": "[encoded data removed]"
    }
   },
   "cell_type": "markdown",
   "id": "97e8066a-2267-4274-9d04-af67fb127f49",
   "metadata": {},
   "source": [
    "![image.png](attachment:9e2ae822-b400-46e3-9e71-d5e96fbd54ce.png)"
   ]
  },
  {
   "cell_type": "markdown",
   "id": "13b1758f-23b9-471f-bcb7-5b5b808058e2",
   "metadata": {},
   "source": [
    "- conditional statements"
   ]
  },
  {
   "cell_type": "markdown",
   "id": "b776e922-a6a3-4a97-bfc1-d414eae85714",
   "metadata": {},
   "source": [
    "- if, elif, else statements"
   ]
  },
  {
   "cell_type": "code",
   "execution_count": 13,
   "id": "ac13aa3d-6923-4e74-a89b-4bea46b67773",
   "metadata": {},
   "outputs": [
    {
     "name": "stdout",
     "output_type": "stream",
     "text": [
      "b and a are equal\n"
     ]
    }
   ],
   "source": [
    "a=4\n",
    "b=4\n",
    "if a > b:\n",
    "    print('a is greater than b')\n",
    "elif b>a:\n",
    "    print('b is greater than a')\n",
    "else:\n",
    "\n",
    "    print('b and a are equal')"
   ]
  },
  {
   "cell_type": "markdown",
   "id": "0c641c6d-07bc-4dee-b186-e8498f0c83b2",
   "metadata": {},
   "source": [
    "- for loops"
   ]
  },
  {
   "cell_type": "code",
   "execution_count": 16,
   "id": "3ed2e545-8136-4180-8fa1-fe56a1206cd8",
   "metadata": {},
   "outputs": [
    {
     "name": "stdout",
     "output_type": "stream",
     "text": [
      "1 I love you\n",
      "2 I love you\n",
      "3 I love you\n",
      "4 I love you\n",
      "5 I love you\n",
      "6 I love you\n",
      "7 I love you\n",
      "8 I love you\n",
      "9 I love you\n",
      "10 I love you\n"
     ]
    }
   ],
   "source": [
    "for i in range(10):\n",
    "    print(i+1,'I love you')"
   ]
  },
  {
   "cell_type": "code",
   "execution_count": 19,
   "id": "0e1b28ee-5cec-413b-904b-5300ec2c0a58",
   "metadata": {},
   "outputs": [
    {
     "data": {
      "text/plain": [
       "<function __main__.<lambda>(x)>"
      ]
     },
     "execution_count": 19,
     "metadata": {},
     "output_type": "execute_result"
    }
   ],
   "source": [
    "lambda x : x+10"
   ]
  },
  {
   "cell_type": "code",
   "execution_count": 22,
   "id": "79ff59e9-3b68-4b16-b6b9-75c62d3db703",
   "metadata": {},
   "outputs": [],
   "source": [
    "users=list(range(10))"
   ]
  },
  {
   "cell_type": "code",
   "execution_count": 25,
   "id": "658fd992-fb4a-4fbf-9d96-34330f7bc2e4",
   "metadata": {},
   "outputs": [
    {
     "name": "stdout",
     "output_type": "stream",
     "text": [
      "this is my 0 user\n",
      "this is my 1 user\n",
      "this is my 2 user\n",
      "this is my 3 user\n",
      "this is my 4 user\n",
      "this is my 5 user\n",
      "this is my 6 user\n",
      "this is my 7 user\n",
      "this is my 8 user\n",
      "this is my 9 user\n"
     ]
    }
   ],
   "source": [
    "for i in users:\n",
    "    print(f'this is my {i} user')"
   ]
  },
  {
   "cell_type": "code",
   "execution_count": 28,
   "id": "89db5eac-914c-4237-928e-12f48817f204",
   "metadata": {},
   "outputs": [
    {
     "name": "stdout",
     "output_type": "stream",
     "text": [
      "this is an odd number1\n",
      "this is an even number2\n",
      "this is an odd number3\n",
      "this is an even number4\n",
      "this is an odd number5\n",
      "this is an even number6\n",
      "this is an odd number7\n",
      "this is an even number8\n",
      "this is an odd number9\n",
      "this is an even number10\n"
     ]
    }
   ],
   "source": [
    "list_l=[1,2,3,4,5,6,7,8,9,10]\n",
    "for i in list_l:\n",
    "    if i%2==0:\n",
    "        print(f'this is an even number{i}')\n",
    "    else:\n",
    "        print(f'this is an odd number{i}')"
   ]
  },
  {
   "cell_type": "markdown",
   "id": "01f94a08-1621-43e4-a71f-3e40e4a0ab3c",
   "metadata": {},
   "source": [
    "- while statements\n",
    "- it will keep repetating until condition becomes true"
   ]
  },
  {
   "cell_type": "markdown",
   "id": "f178a6b5-c874-4a4c-8a69-c4d1860c1dc0",
   "metadata": {},
   "source": [
    "'''\n",
    "while test:\n",
    "    code statement\n",
    "else:\n",
    "    final code\n",
    "    '''"
   ]
  },
  {
   "cell_type": "code",
   "execution_count": 32,
   "id": "22141368-1644-49fa-a681-1ee253510cc1",
   "metadata": {},
   "outputs": [
    {
     "name": "stdout",
     "output_type": "stream",
     "text": [
      "x is currently:  0 \n",
      "x is currently:  1 \n",
      "x is currently:  2 \n",
      "x is currently:  3 \n",
      "x is currently:  4 \n",
      "x is currently:  5 \n",
      "x is currently:  6 \n",
      "x is currently:  7 \n",
      "x is currently:  8 \n",
      "x is currently:  9 \n"
     ]
    }
   ],
   "source": [
    "x=0\n",
    "while x<10:\n",
    "    print('x is currently: ',x,end=' ')\n",
    "    print('')\n",
    "    x=x+1"
   ]
  },
  {
   "cell_type": "markdown",
   "id": "6066d227-e33d-4af8-b9cc-f301f471a987",
   "metadata": {},
   "source": [
    "- list comprehension"
   ]
  },
  {
   "cell_type": "code",
   "execution_count": 33,
   "id": "0d46e5a8-5d26-4c8c-91a7-5603f1c97af8",
   "metadata": {},
   "outputs": [
    {
     "data": {
      "text/plain": [
       "['ravi', 'savi', 'pavi', 'arjun', 'jiu']"
      ]
     },
     "execution_count": 33,
     "metadata": {},
     "output_type": "execute_result"
    }
   ],
   "source": [
    "names=['ravi','savi','pavi','arjun','jiu']\n",
    "names"
   ]
  },
  {
   "cell_type": "code",
   "execution_count": 34,
   "id": "27e29328-3580-4411-80a8-5af1f8b8cde8",
   "metadata": {},
   "outputs": [
    {
     "name": "stdout",
     "output_type": "stream",
     "text": [
      "ravi\n",
      "savi\n",
      "pavi\n",
      "arjun\n",
      "jiu\n"
     ]
    }
   ],
   "source": [
    "for name in names:\n",
    "    print(name)"
   ]
  },
  {
   "cell_type": "code",
   "execution_count": 37,
   "id": "c391e3ff-438f-4dc6-a87c-e953b0154251",
   "metadata": {},
   "outputs": [
    {
     "name": "stdout",
     "output_type": "stream",
     "text": [
      "['ravi', 'savi', 'pavi', 'arjun', 'jiu']\n"
     ]
    }
   ],
   "source": [
    "print([name for name in names])"
   ]
  },
  {
   "cell_type": "code",
   "execution_count": 39,
   "id": "35773bd1-e02c-42a2-8f81-d35db452e2a4",
   "metadata": {},
   "outputs": [
    {
     "name": "stdout",
     "output_type": "stream",
     "text": [
      "[32, 10, 32]\n",
      "[(55, 3025), (87, 7569), (51, 2601)]\n"
     ]
    }
   ],
   "source": [
    "numbers=[55,32,87,10,51,32]\n",
    "even= [num for num in numbers if num % 2 ==0]\n",
    "print(even)\n",
    "\n",
    "odd_squares=[(num, num*num)for num in numbers if num % 2 ==1]\n",
    "print(odd_squares)"
   ]
  },
  {
   "cell_type": "markdown",
   "id": "b219bfe2-1b3f-4368-aa0b-873077999078",
   "metadata": {},
   "source": [
    "- exception handling"
   ]
  },
  {
   "cell_type": "markdown",
   "id": "5b97dfa7-bfc0-4cbc-b83c-795186c82cce",
   "metadata": {},
   "source": [
    "- modules, packages and import\n",
    "- module is a collection of functions and variables that have been bundles together in a single file"
   ]
  },
  {
   "cell_type": "code",
   "execution_count": 40,
   "id": "7535d6c2-4ff4-435b-b198-0b0d1a204ed1",
   "metadata": {},
   "outputs": [
    {
     "data": {
      "text/plain": [
       "8.0"
      ]
     },
     "execution_count": 40,
     "metadata": {},
     "output_type": "execute_result"
    }
   ],
   "source": [
    "import math\n",
    "math.pow(2,3)"
   ]
  },
  {
   "cell_type": "markdown",
   "id": "eb1072f7-5eb9-4312-b20f-e52cea8e3b38",
   "metadata": {},
   "source": [
    "- exception {try and except}\n",
    "- try except else finally"
   ]
  },
  {
   "cell_type": "code",
   "execution_count": 41,
   "id": "bdde875a-e888-47aa-a554-8d9260bc4140",
   "metadata": {},
   "outputs": [
    {
     "ename": "ZeroDivisionError",
     "evalue": "division by zero",
     "output_type": "error",
     "traceback": [
      "\u001b[31m---------------------------------------------------------------------------\u001b[39m",
      "\u001b[31mZeroDivisionError\u001b[39m                         Traceback (most recent call last)",
      "\u001b[36mCell\u001b[39m\u001b[36m \u001b[39m\u001b[32mIn[41]\u001b[39m\u001b[32m, line 1\u001b[39m\n\u001b[32m----> \u001b[39m\u001b[32m1\u001b[39m x=\u001b[32;43m1\u001b[39;49m\u001b[43m/\u001b[49m\u001b[32;43m0\u001b[39;49m\n",
      "\u001b[31mZeroDivisionError\u001b[39m: division by zero"
     ]
    }
   ],
   "source": [
    "x=1/0"
   ]
  },
  {
   "cell_type": "code",
   "execution_count": 42,
   "id": "fc577602-7ba1-4eb3-a92d-6890384d81ae",
   "metadata": {},
   "outputs": [
    {
     "name": "stdout",
     "output_type": "stream",
     "text": [
      "divided by zero\n",
      "code ends\n"
     ]
    }
   ],
   "source": [
    "try:\n",
    "    x=1/0\n",
    "except ZeroDivisionError:\n",
    "    print('divided by zero')\n",
    "else:\n",
    "    print('exceuted when exception doesn\\'t occurs')\n",
    "finally:\n",
    "    print('code ends')\n",
    "    "
   ]
  },
  {
   "cell_type": "markdown",
   "id": "471a52ae-45b4-48ff-ba04-e56d73891db9",
   "metadata": {},
   "source": [
    "- read file text"
   ]
  },
  {
   "cell_type": "code",
   "execution_count": 45,
   "id": "87fdd2ac-1d07-4b5c-a424-10ba7ae1055b",
   "metadata": {},
   "outputs": [],
   "source": [
    "with open('myfile.txt','w') as f:\n",
    "    f.write('This is my file \\n')\n",
    "    f.write('second file \\n')"
   ]
  },
  {
   "cell_type": "code",
   "execution_count": 46,
   "id": "656287ee-be6f-4845-82fd-8d4cc45223a6",
   "metadata": {},
   "outputs": [],
   "source": [
    "with open('myfile.txt','a') as f:\n",
    "    f.write('hello \\n')"
   ]
  },
  {
   "cell_type": "code",
   "execution_count": 47,
   "id": "d6f822bd-8ed0-498c-a41c-1981a2195aee",
   "metadata": {},
   "outputs": [
    {
     "name": "stdout",
     "output_type": "stream",
     "text": [
      "This is my file \n",
      "\n",
      "second file \n",
      "\n",
      "hello \n",
      "\n"
     ]
    }
   ],
   "source": [
    "with open('myfile.txt','r') as f:\n",
    "    for line in f:\n",
    "        print(line)"
   ]
  },
  {
   "cell_type": "markdown",
   "id": "1a3cc064-4a8f-40e5-9c96-0e2bef3572bb",
   "metadata": {},
   "source": [
    "- working with functions"
   ]
  },
  {
   "cell_type": "code",
   "execution_count": 48,
   "id": "190ed084-81e2-48c8-b041-e2dba5449952",
   "metadata": {},
   "outputs": [
    {
     "data": {
      "text/plain": [
       "'PRAVEEN'"
      ]
     },
     "execution_count": 48,
     "metadata": {},
     "output_type": "execute_result"
    }
   ],
   "source": [
    "'praveen'.upper()"
   ]
  },
  {
   "cell_type": "code",
   "execution_count": 49,
   "id": "7dfdd1e0-0ec0-49f1-b2df-28d602fcc8c6",
   "metadata": {},
   "outputs": [],
   "source": [
    "def adding(a,b):\n",
    "    return a+b"
   ]
  },
  {
   "cell_type": "code",
   "execution_count": 50,
   "id": "c4ee7187-240c-4797-bf5f-9255f8525185",
   "metadata": {},
   "outputs": [
    {
     "name": "stdout",
     "output_type": "stream",
     "text": [
      "7\n"
     ]
    }
   ],
   "source": [
    "print(adding(3,4))"
   ]
  },
  {
   "cell_type": "markdown",
   "id": "52f018ad-90e1-4b55-b3fc-6421f3a6b246",
   "metadata": {},
   "source": [
    "\n",
    "- def name_of_function(argument if needed):\n",
    "  -  return expression"
   ]
  },
  {
   "cell_type": "markdown",
   "id": "f0c88bd8-2d72-4cb0-bd66-a2fe96594846",
   "metadata": {},
   "source": [
    "- a simple hello function"
   ]
  },
  {
   "cell_type": "code",
   "execution_count": 52,
   "id": "9b414fe9-68f9-40b0-a4f7-f5948d5e3e8a",
   "metadata": {},
   "outputs": [
    {
     "name": "stdout",
     "output_type": "stream",
     "text": [
      "hello\n"
     ]
    }
   ],
   "source": [
    "def say_hello():\n",
    "    print('hello')\n",
    "say_hello()"
   ]
  },
  {
   "cell_type": "code",
   "execution_count": 54,
   "id": "ed34423e-955e-4a3f-a1e3-fbb11e4a16ae",
   "metadata": {},
   "outputs": [
    {
     "data": {
      "text/plain": [
       "'hello praveen'"
      ]
     },
     "execution_count": 54,
     "metadata": {},
     "output_type": "execute_result"
    }
   ],
   "source": [
    "def say_my_name(name):\n",
    "    return 'hello '+name\n",
    "\n",
    "say_my_name('praveen')"
   ]
  },
  {
   "cell_type": "markdown",
   "id": "ba24a09a-b80a-44e1-8f34-f4b31da08b22",
   "metadata": {},
   "source": [
    "- default arguments/keyword arguments"
   ]
  },
  {
   "cell_type": "code",
   "execution_count": 56,
   "id": "184310f5-7227-4ee4-ac54-fbb16ee2b142",
   "metadata": {},
   "outputs": [
    {
     "name": "stdout",
     "output_type": "stream",
     "text": [
      "2\n",
      "4\n"
     ]
    }
   ],
   "source": [
    "def double_the_number(num=1):\n",
    "    return num*2\n",
    "\n",
    "print(double_the_number())\n",
    "print(double_the_number(2))"
   ]
  },
  {
   "cell_type": "markdown",
   "id": "a307f170-17f0-4517-ba53-7e00ff2a861d",
   "metadata": {},
   "source": [
    "- positinal arguments"
   ]
  },
  {
   "cell_type": "code",
   "execution_count": 57,
   "id": "4882d585-7f19-4406-adde-3047e1266364",
   "metadata": {},
   "outputs": [
    {
     "ename": "TypeError",
     "evalue": "double_number() missing 1 required positional argument: 'num'",
     "output_type": "error",
     "traceback": [
      "\u001b[31m---------------------------------------------------------------------------\u001b[39m",
      "\u001b[31mTypeError\u001b[39m                                 Traceback (most recent call last)",
      "\u001b[36mCell\u001b[39m\u001b[36m \u001b[39m\u001b[32mIn[57]\u001b[39m\u001b[32m, line 4\u001b[39m\n\u001b[32m      1\u001b[39m \u001b[38;5;28;01mdef\u001b[39;00m\u001b[38;5;250m \u001b[39m\u001b[34mdouble_number\u001b[39m(num):\n\u001b[32m      2\u001b[39m     \u001b[38;5;28;01mreturn\u001b[39;00m num*\u001b[32m2\u001b[39m\n\u001b[32m----> \u001b[39m\u001b[32m4\u001b[39m \u001b[38;5;28mprint\u001b[39m(\u001b[43mdouble_number\u001b[49m\u001b[43m(\u001b[49m\u001b[43m)\u001b[49m)\n",
      "\u001b[31mTypeError\u001b[39m: double_number() missing 1 required positional argument: 'num'"
     ]
    }
   ],
   "source": [
    "def double_number(num):\n",
    "    return num*2\n",
    "\n",
    "print(double_number())"
   ]
  },
  {
   "cell_type": "code",
   "execution_count": 58,
   "id": "cdfc15a0-ba44-4880-ac60-7b42b6e100cd",
   "metadata": {},
   "outputs": [
    {
     "name": "stdout",
     "output_type": "stream",
     "text": [
      "6\n"
     ]
    }
   ],
   "source": [
    "print(double_number(3))"
   ]
  },
  {
   "cell_type": "markdown",
   "id": "a5cc1510-ae6b-489c-b5ef-049555a1d9e1",
   "metadata": {},
   "source": [
    "- args,kwargs\n",
    "- to give multiple arguments"
   ]
  },
  {
   "cell_type": "code",
   "execution_count": 59,
   "id": "b0a0a075-50cd-440d-9866-73d7f2c71d2c",
   "metadata": {},
   "outputs": [],
   "source": [
    "def database_columns(*args):\n",
    "    for arg in args:\n",
    "        print(arg)"
   ]
  },
  {
   "cell_type": "code",
   "execution_count": 60,
   "id": "111fa04c-5da8-4cb1-980c-d21e9f9ef854",
   "metadata": {},
   "outputs": [
    {
     "name": "stdout",
     "output_type": "stream",
     "text": [
      "name\n",
      "age\n",
      "height\n"
     ]
    }
   ],
   "source": [
    "database_columns('name','age','height')"
   ]
  },
  {
   "cell_type": "markdown",
   "id": "587d9b39-599b-46cc-b3f0-e430aca55fd5",
   "metadata": {},
   "source": [
    "- to pass dictionary values"
   ]
  },
  {
   "cell_type": "code",
   "execution_count": 61,
   "id": "41d88483-69a6-43e7-a576-21d502be97a6",
   "metadata": {},
   "outputs": [],
   "source": [
    "def db_columns(**kwargs):\n",
    "    for value in kwargs.items():\n",
    "        print(value)"
   ]
  },
  {
   "cell_type": "code",
   "execution_count": 62,
   "id": "ec4b4370-9e53-4f42-875c-7e6043f11567",
   "metadata": {},
   "outputs": [
    {
     "name": "stdout",
     "output_type": "stream",
     "text": [
      "('name', 'divya')\n",
      "('age', 25)\n"
     ]
    }
   ],
   "source": [
    "db_columns(name='divya',age=25)"
   ]
  },
  {
   "cell_type": "markdown",
   "id": "29309029-7cb3-4f05-8cb1-2c3b32e534c0",
   "metadata": {},
   "source": [
    "- return value"
   ]
  },
  {
   "cell_type": "code",
   "execution_count": 65,
   "id": "93d632cc-43e7-46ac-b9af-83e5343a5d3d",
   "metadata": {},
   "outputs": [],
   "source": [
    "def get_my_name(name):\n",
    "    return name *3"
   ]
  },
  {
   "cell_type": "code",
   "execution_count": 67,
   "id": "bffffb37-0865-40e4-a7dc-82cdf6f9dc70",
   "metadata": {},
   "outputs": [
    {
     "name": "stdout",
     "output_type": "stream",
     "text": [
      "dharam dharam dharam \n"
     ]
    }
   ],
   "source": [
    "print(get_my_name('dharam '))"
   ]
  },
  {
   "cell_type": "markdown",
   "id": "7e10b6af-dc15-4fb9-814e-c83adbd44acd",
   "metadata": {},
   "source": [
    "- lambda function\n",
    "- lambda function is an anonymous function"
   ]
  },
  {
   "cell_type": "code",
   "execution_count": 68,
   "id": "23442ad1-2777-4038-8f1b-c0cb52633fc6",
   "metadata": {},
   "outputs": [
    {
     "data": {
      "text/plain": [
       "4"
      ]
     },
     "execution_count": 68,
     "metadata": {},
     "output_type": "execute_result"
    }
   ],
   "source": [
    "def square_num(num):\n",
    "    result = num **2\n",
    "    return result\n",
    "square_num(2)"
   ]
  },
  {
   "cell_type": "code",
   "execution_count": 70,
   "id": "5c6c0f41-74d9-47d5-9f22-a88376c686ac",
   "metadata": {},
   "outputs": [
    {
     "data": {
      "text/plain": [
       "25"
      ]
     },
     "execution_count": 70,
     "metadata": {},
     "output_type": "execute_result"
    }
   ],
   "source": [
    "sq_lambda=lambda num : num**2\n",
    "sq_lambda(5)"
   ]
  },
  {
   "cell_type": "markdown",
   "id": "f4acf005-4bd3-4a74-b3c0-eea1da34d40c",
   "metadata": {},
   "source": [
    "- oops {object oriented programming}"
   ]
  },
  {
   "cell_type": "markdown",
   "id": "29ecebab-07fa-4565-8f91-afea48ffb24f",
   "metadata": {},
   "source": [
    "- everything inside python is an object"
   ]
  },
  {
   "cell_type": "code",
   "execution_count": 71,
   "id": "fa4eca9b-5036-4a86-a8c2-2c5680f61637",
   "metadata": {},
   "outputs": [],
   "source": [
    "s='my name is praveen'"
   ]
  },
  {
   "cell_type": "code",
   "execution_count": 77,
   "id": "4379885c-933b-4f8e-acee-c12549f7aa3f",
   "metadata": {},
   "outputs": [
    {
     "name": "stdout",
     "output_type": "stream",
     "text": [
      "<class 'int'>\n",
      "<class 'list'>\n",
      "<class 'tuple'>\n",
      "<class 'dict'>\n"
     ]
    }
   ],
   "source": [
    "print(type(1))\n",
    "print(type([]))\n",
    "print(type(()))\n",
    "print(type({}))"
   ]
  },
  {
   "cell_type": "code",
   "execution_count": 78,
   "id": "901d2342-19e1-4f37-b893-eddb6eb50852",
   "metadata": {},
   "outputs": [
    {
     "name": "stdout",
     "output_type": "stream",
     "text": [
      "<class '__main__.Sample'>\n"
     ]
    }
   ],
   "source": [
    "class Sample():\n",
    "    pass\n",
    "x=Sample()\n",
    "print(type(x))"
   ]
  },
  {
   "cell_type": "markdown",
   "id": "1dcb200b-e12f-41c2-92d4-c35032791f12",
   "metadata": {},
   "source": [
    "- an attribute is a charectistic of an object {name,colour,heigt}\n",
    "- a method is an operation we can perfom{function, run, eat}"
   ]
  },
  {
   "cell_type": "code",
   "execution_count": 79,
   "id": "89e04b09-5e90-421a-a856-2e6f1a941fdc",
   "metadata": {},
   "outputs": [],
   "source": [
    "class Dog(object):\n",
    "    def __init__(self,breed):\n",
    "        self.breed=breed"
   ]
  },
  {
   "cell_type": "code",
   "execution_count": 80,
   "id": "f439b977-dd2d-4529-959a-e6f09223a847",
   "metadata": {},
   "outputs": [],
   "source": [
    "sam=Dog(breed='willingan')"
   ]
  },
  {
   "cell_type": "code",
   "execution_count": 81,
   "id": "ea983699-59d1-4428-bd69-ba26b123c1cc",
   "metadata": {},
   "outputs": [
    {
     "data": {
      "text/plain": [
       "'willingan'"
      ]
     },
     "execution_count": 81,
     "metadata": {},
     "output_type": "execute_result"
    }
   ],
   "source": [
    "sam.breed"
   ]
  },
  {
   "cell_type": "code",
   "execution_count": 82,
   "id": "c9eec8e3-39bf-4e90-a763-dc3e570cb528",
   "metadata": {},
   "outputs": [],
   "source": [
    "class Circle(object):\n",
    "    pi = 3.14\n",
    "\n",
    "    def __init__(self,radius=1):\n",
    "        self.radius=radius\n",
    "\n",
    "    def area(self):\n",
    "        return self.radius * self.radius * Circle.pi\n",
    "    "
   ]
  },
  {
   "cell_type": "code",
   "execution_count": 85,
   "id": "8ee275fe-d8c8-4aa8-a367-36713b454ef9",
   "metadata": {},
   "outputs": [],
   "source": [
    "c=Circle(5)"
   ]
  },
  {
   "cell_type": "code",
   "execution_count": 86,
   "id": "e6fbb7f9-a845-45c1-94ef-e60e9a6f172a",
   "metadata": {},
   "outputs": [
    {
     "data": {
      "text/plain": [
       "78.5"
      ]
     },
     "execution_count": 86,
     "metadata": {},
     "output_type": "execute_result"
    }
   ],
   "source": [
    "c.area()"
   ]
  },
  {
   "cell_type": "markdown",
   "id": "a48d4f38-7d12-4a7f-93a1-9aff39453fe5",
   "metadata": {},
   "source": [
    "- Instance vs Class Vs static methods"
   ]
  },
  {
   "cell_type": "code",
   "execution_count": 87,
   "id": "03c8102e-ecfb-41c5-844d-2591e3a81c55",
   "metadata": {},
   "outputs": [],
   "source": [
    "class Student:\n",
    "    # class variable\n",
    "    school_name=\"abc oxford school\"\n",
    "\n",
    "    #costrcutors\n",
    "    def __init__(self,name,age):\n",
    "        #isntance variables\n",
    "        self.name=name\n",
    "        sefl.age=age\n",
    "\n",
    "    #instance variable\n",
    "    def show(self):\n",
    "        print(self.name,self.age,Student.school_name)\n",
    "\n",
    "    #clss method\n",
    "    def change_school(cls,name):\n",
    "        cls.school_name=name\n",
    "\n",
    "    #static method\n",
    "    def find_notes(subject_name):\n",
    "        return['Chapter 1','Chapter 2','Chapter 3']\n",
    "    "
   ]
  },
  {
   "cell_type": "markdown",
   "id": "9ca0b581-1abe-410b-b436-af30e7193f98",
   "metadata": {},
   "source": [
    "- Numpy package"
   ]
  },
  {
   "cell_type": "code",
   "execution_count": 91,
   "id": "6ddfb05a-be97-4096-b9a5-6babec7ab866",
   "metadata": {},
   "outputs": [
    {
     "name": "stdout",
     "output_type": "stream",
     "text": [
      "Requirement already satisfied: numpy in c:\\users\\prave\\appdata\\local\\programs\\python\\python313\\lib\\site-packages (2.2.6)\n",
      "Note: you may need to restart the kernel to use updated packages.\n"
     ]
    },
    {
     "name": "stderr",
     "output_type": "stream",
     "text": [
      "\n",
      "[notice] A new release of pip is available: 25.0.1 -> 25.2\n",
      "[notice] To update, run: python.exe -m pip install --upgrade pip\n"
     ]
    }
   ],
   "source": [
    "pip install numpy"
   ]
  },
  {
   "cell_type": "code",
   "execution_count": 89,
   "id": "560b6c0d-bb6f-42b2-82d4-4366240385e0",
   "metadata": {},
   "outputs": [],
   "source": [
    "import numpy as np"
   ]
  },
  {
   "cell_type": "code",
   "execution_count": 98,
   "id": "da588f94-cec7-43c2-91d8-ad2207cc07fc",
   "metadata": {},
   "outputs": [
    {
     "data": {
      "text/plain": [
       "array([10,  2, 45])"
      ]
     },
     "execution_count": 98,
     "metadata": {},
     "output_type": "execute_result"
    }
   ],
   "source": [
    "my_ls=[10,2,45]\n",
    "np.array(my_ls)"
   ]
  },
  {
   "cell_type": "code",
   "execution_count": 99,
   "id": "14777460-2083-4ece-bfa9-86975b596f11",
   "metadata": {},
   "outputs": [
    {
     "data": {
      "text/plain": [
       "numpy.ndarray"
      ]
     },
     "execution_count": 99,
     "metadata": {},
     "output_type": "execute_result"
    }
   ],
   "source": [
    "type(np.array(my_ls))"
   ]
  },
  {
   "cell_type": "code",
   "execution_count": 101,
   "id": "76ca7f09-fd54-4f25-8ed6-b548d8e7ae87",
   "metadata": {},
   "outputs": [
    {
     "data": {
      "text/plain": [
       "array([[10, 20, 30],\n",
       "       [40, 50, 60],\n",
       "       [70, 80, 90]])"
      ]
     },
     "execution_count": 101,
     "metadata": {},
     "output_type": "execute_result"
    }
   ],
   "source": [
    "list_of_list=[[10,20,30],[40,50,60],[70,80,90]]\n",
    "np.array(list_of_list)"
   ]
  },
  {
   "cell_type": "code",
   "execution_count": 107,
   "id": "c324b609-2bd7-4ba7-9f04-48c87c460ead",
   "metadata": {},
   "outputs": [
    {
     "name": "stdout",
     "output_type": "stream",
     "text": [
      "[10 20 30]\n",
      "int64\n"
     ]
    },
    {
     "data": {
      "text/plain": [
       "(3,)"
      ]
     },
     "execution_count": 107,
     "metadata": {},
     "output_type": "execute_result"
    }
   ],
   "source": [
    "my_list=[10,20,30]\n",
    "arr=np.array(my_list)\n",
    "print(arr)\n",
    "print(arr.dtype)\n",
    "arr.shape"
   ]
  },
  {
   "cell_type": "markdown",
   "id": "31729885-763c-40e2-81e6-707f538f09c5",
   "metadata": {},
   "source": [
    "- numpy buitin methods"
   ]
  },
  {
   "cell_type": "code",
   "execution_count": 108,
   "id": "4e4bb671-32f7-4c90-ae85-61b41bea20ab",
   "metadata": {},
   "outputs": [
    {
     "data": {
      "text/plain": [
       "array([[1., 1., 1.],\n",
       "       [1., 1., 1.]])"
      ]
     },
     "execution_count": 108,
     "metadata": {},
     "output_type": "execute_result"
    }
   ],
   "source": [
    "np.ones((2,3))"
   ]
  },
  {
   "cell_type": "code",
   "execution_count": 109,
   "id": "0fce9754-16d6-4451-972a-a3b56f93cf25",
   "metadata": {},
   "outputs": [
    {
     "data": {
      "text/plain": [
       "array([ 0.        ,  1.66666667,  3.33333333,  5.        ,  6.66666667,\n",
       "        8.33333333, 10.        ])"
      ]
     },
     "execution_count": 109,
     "metadata": {},
     "output_type": "execute_result"
    }
   ],
   "source": [
    "np.linspace(0,10,7)"
   ]
  },
  {
   "cell_type": "code",
   "execution_count": 110,
   "id": "43b81f27-c150-4aa9-82e1-43fc55db2245",
   "metadata": {},
   "outputs": [
    {
     "data": {
      "text/plain": [
       "array([[0.56490485, 0.27966993, 0.52465116, 0.7113455 ],\n",
       "       [0.95223071, 0.28133718, 0.71430611, 0.12879802],\n",
       "       [0.61181711, 0.82049357, 0.36700468, 0.32234095]])"
      ]
     },
     "execution_count": 110,
     "metadata": {},
     "output_type": "execute_result"
    }
   ],
   "source": [
    "np.random.rand(3,4)"
   ]
  },
  {
   "cell_type": "markdown",
   "id": "c6909d7c-9dbb-4c96-8b47-3f4c89c32939",
   "metadata": {},
   "source": [
    "- pandas"
   ]
  },
  {
   "cell_type": "code",
   "execution_count": 112,
   "id": "64712c26-4372-42ca-a7f6-314d85af3aa4",
   "metadata": {},
   "outputs": [
    {
     "name": "stdout",
     "output_type": "stream",
     "text": [
      "0    10\n",
      "1    20\n",
      "2    30\n",
      "dtype: int64\n",
      "RangeIndex(start=0, stop=3, step=1)\n",
      "[10 20 30]\n"
     ]
    }
   ],
   "source": [
    "#creating a series using list\n",
    "import pandas as pd\n",
    "my_list=[10,20,30]\n",
    "series=pd.Series(my_list)\n",
    "print(series)\n",
    "print(series.index)\n",
    "print(series.values)"
   ]
  },
  {
   "cell_type": "code",
   "execution_count": 114,
   "id": "a9755c25-f467-4619-a85c-47f4caeafc31",
   "metadata": {},
   "outputs": [
    {
     "name": "stdout",
     "output_type": "stream",
     "text": [
      "name      aaksh\n",
      "age          25\n",
      "income    50000\n",
      "dtype: object\n",
      "Index(['name', 'age', 'income'], dtype='object')\n",
      "['aaksh' 25 50000]\n"
     ]
    }
   ],
   "source": [
    "# creating a series using dictionary\n",
    "dict={'name':'aaksh','age':25,'income':50000}\n",
    "a=pd.Series(dict)\n",
    "print(a)\n",
    "print(a.index)\n",
    "print(a.values)"
   ]
  },
  {
   "cell_type": "code",
   "execution_count": 115,
   "id": "bdef84da-1d22-4a84-8823-01c9a2bb6359",
   "metadata": {},
   "outputs": [
    {
     "data": {
      "text/plain": [
       "USA        1\n",
       "Germany    2\n",
       "USSR       3\n",
       "Japan      4\n",
       "dtype: int64"
      ]
     },
     "execution_count": 115,
     "metadata": {},
     "output_type": "execute_result"
    }
   ],
   "source": [
    "import pandas as pd\n",
    "pd.Series([1,2,3,4],index=['USA','Germany','USSR','Japan'])"
   ]
  },
  {
   "cell_type": "code",
   "execution_count": 116,
   "id": "6f1bed0d-048b-40ce-b255-0785a21ceee2",
   "metadata": {},
   "outputs": [
    {
     "data": {
      "text/html": [
       "<div>\n",
       "<style scoped>\n",
       "    .dataframe tbody tr th:only-of-type {\n",
       "        vertical-align: middle;\n",
       "    }\n",
       "\n",
       "    .dataframe tbody tr th {\n",
       "        vertical-align: top;\n",
       "    }\n",
       "\n",
       "    .dataframe thead th {\n",
       "        text-align: right;\n",
       "    }\n",
       "</style>\n",
       "<table border=\"1\" class=\"dataframe\">\n",
       "  <thead>\n",
       "    <tr style=\"text-align: right;\">\n",
       "      <th></th>\n",
       "      <th>0</th>\n",
       "      <th>1</th>\n",
       "      <th>2</th>\n",
       "    </tr>\n",
       "  </thead>\n",
       "  <tbody>\n",
       "    <tr>\n",
       "      <th>0</th>\n",
       "      <td>1</td>\n",
       "      <td>2</td>\n",
       "      <td>3</td>\n",
       "    </tr>\n",
       "    <tr>\n",
       "      <th>1</th>\n",
       "      <td>4</td>\n",
       "      <td>5</td>\n",
       "      <td>6</td>\n",
       "    </tr>\n",
       "    <tr>\n",
       "      <th>2</th>\n",
       "      <td>7</td>\n",
       "      <td>8</td>\n",
       "      <td>9</td>\n",
       "    </tr>\n",
       "  </tbody>\n",
       "</table>\n",
       "</div>"
      ],
      "text/plain": [
       "   0  1  2\n",
       "0  1  2  3\n",
       "1  4  5  6\n",
       "2  7  8  9"
      ]
     },
     "execution_count": 116,
     "metadata": {},
     "output_type": "execute_result"
    }
   ],
   "source": [
    "a=pd.DataFrame([[1,2,3],\n",
    "             [4,5,6],\n",
    "             [7,8,9]])\n",
    "a"
   ]
  },
  {
   "cell_type": "code",
   "execution_count": 118,
   "id": "350e47f5-6212-48a9-9358-de583fdd8fb6",
   "metadata": {},
   "outputs": [
    {
     "data": {
      "text/html": [
       "<div>\n",
       "<style scoped>\n",
       "    .dataframe tbody tr th:only-of-type {\n",
       "        vertical-align: middle;\n",
       "    }\n",
       "\n",
       "    .dataframe tbody tr th {\n",
       "        vertical-align: top;\n",
       "    }\n",
       "\n",
       "    .dataframe thead th {\n",
       "        text-align: right;\n",
       "    }\n",
       "</style>\n",
       "<table border=\"1\" class=\"dataframe\">\n",
       "  <thead>\n",
       "    <tr style=\"text-align: right;\">\n",
       "      <th></th>\n",
       "      <th>x</th>\n",
       "      <th>y</th>\n",
       "      <th>z</th>\n",
       "    </tr>\n",
       "  </thead>\n",
       "  <tbody>\n",
       "    <tr>\n",
       "      <th>a</th>\n",
       "      <td>1</td>\n",
       "      <td>2</td>\n",
       "      <td>3</td>\n",
       "    </tr>\n",
       "    <tr>\n",
       "      <th>b</th>\n",
       "      <td>4</td>\n",
       "      <td>5</td>\n",
       "      <td>6</td>\n",
       "    </tr>\n",
       "    <tr>\n",
       "      <th>d</th>\n",
       "      <td>7</td>\n",
       "      <td>8</td>\n",
       "      <td>9</td>\n",
       "    </tr>\n",
       "  </tbody>\n",
       "</table>\n",
       "</div>"
      ],
      "text/plain": [
       "   x  y  z\n",
       "a  1  2  3\n",
       "b  4  5  6\n",
       "d  7  8  9"
      ]
     },
     "execution_count": 118,
     "metadata": {},
     "output_type": "execute_result"
    }
   ],
   "source": [
    "a= pd.DataFrame(\n",
    "    [[1,2,3],\n",
    "    [4,5,6],\n",
    "    [7,8,9]],\n",
    "    index=['a','b','d'],\n",
    "    columns=['x','y','z']\n",
    ")\n",
    "a"
   ]
  },
  {
   "cell_type": "code",
   "execution_count": 119,
   "id": "71c0d9e3-81de-4f29-82cf-50db01ebaffc",
   "metadata": {},
   "outputs": [
    {
     "name": "stdout",
     "output_type": "stream",
     "text": [
      "shape: (8784, 8)\n",
      "shape: RangeIndex(start=0, stop=8784, step=1)\n"
     ]
    }
   ],
   "source": [
    "weather_df=pd.read_csv('weather_2012.csv')\n",
    "print('shape:' , weather_df.shape)\n",
    "print('shape:' , weather_df.index)"
   ]
  },
  {
   "cell_type": "code",
   "execution_count": 120,
   "id": "d6369ef5-8d13-49cb-8922-0fcd0e4309bc",
   "metadata": {},
   "outputs": [
    {
     "data": {
      "text/html": [
       "<div>\n",
       "<style scoped>\n",
       "    .dataframe tbody tr th:only-of-type {\n",
       "        vertical-align: middle;\n",
       "    }\n",
       "\n",
       "    .dataframe tbody tr th {\n",
       "        vertical-align: top;\n",
       "    }\n",
       "\n",
       "    .dataframe thead th {\n",
       "        text-align: right;\n",
       "    }\n",
       "</style>\n",
       "<table border=\"1\" class=\"dataframe\">\n",
       "  <thead>\n",
       "    <tr style=\"text-align: right;\">\n",
       "      <th></th>\n",
       "      <th>Date/Time</th>\n",
       "      <th>Temp (C)</th>\n",
       "      <th>Dew Point Temp (C)</th>\n",
       "      <th>Rel Hum (%)</th>\n",
       "      <th>Wind Spd (km/h)</th>\n",
       "      <th>Visibility (km)</th>\n",
       "      <th>Stn Press (kPa)</th>\n",
       "      <th>Weather</th>\n",
       "    </tr>\n",
       "  </thead>\n",
       "  <tbody>\n",
       "    <tr>\n",
       "      <th>0</th>\n",
       "      <td>2012-01-01 00:00:00</td>\n",
       "      <td>-1.8</td>\n",
       "      <td>-3.9</td>\n",
       "      <td>86</td>\n",
       "      <td>4</td>\n",
       "      <td>8.0</td>\n",
       "      <td>101.24</td>\n",
       "      <td>Fog</td>\n",
       "    </tr>\n",
       "    <tr>\n",
       "      <th>1</th>\n",
       "      <td>2012-01-01 01:00:00</td>\n",
       "      <td>-1.8</td>\n",
       "      <td>-3.7</td>\n",
       "      <td>87</td>\n",
       "      <td>4</td>\n",
       "      <td>8.0</td>\n",
       "      <td>101.24</td>\n",
       "      <td>Fog</td>\n",
       "    </tr>\n",
       "    <tr>\n",
       "      <th>2</th>\n",
       "      <td>2012-01-01 02:00:00</td>\n",
       "      <td>-1.8</td>\n",
       "      <td>-3.4</td>\n",
       "      <td>89</td>\n",
       "      <td>7</td>\n",
       "      <td>4.0</td>\n",
       "      <td>101.26</td>\n",
       "      <td>Freezing Drizzle,Fog</td>\n",
       "    </tr>\n",
       "    <tr>\n",
       "      <th>3</th>\n",
       "      <td>2012-01-01 03:00:00</td>\n",
       "      <td>-1.5</td>\n",
       "      <td>-3.2</td>\n",
       "      <td>88</td>\n",
       "      <td>6</td>\n",
       "      <td>4.0</td>\n",
       "      <td>101.27</td>\n",
       "      <td>Freezing Drizzle,Fog</td>\n",
       "    </tr>\n",
       "    <tr>\n",
       "      <th>4</th>\n",
       "      <td>2012-01-01 04:00:00</td>\n",
       "      <td>-1.5</td>\n",
       "      <td>-3.3</td>\n",
       "      <td>88</td>\n",
       "      <td>7</td>\n",
       "      <td>4.8</td>\n",
       "      <td>101.23</td>\n",
       "      <td>Fog</td>\n",
       "    </tr>\n",
       "  </tbody>\n",
       "</table>\n",
       "</div>"
      ],
      "text/plain": [
       "             Date/Time  Temp (C)  Dew Point Temp (C)  ...  Visibility (km)  Stn Press (kPa)               Weather\n",
       "0  2012-01-01 00:00:00      -1.8                -3.9  ...              8.0           101.24                   Fog\n",
       "1  2012-01-01 01:00:00      -1.8                -3.7  ...              8.0           101.24                   Fog\n",
       "2  2012-01-01 02:00:00      -1.8                -3.4  ...              4.0           101.26  Freezing Drizzle,Fog\n",
       "3  2012-01-01 03:00:00      -1.5                -3.2  ...              4.0           101.27  Freezing Drizzle,Fog\n",
       "4  2012-01-01 04:00:00      -1.5                -3.3  ...              4.8           101.23                   Fog\n",
       "\n",
       "[5 rows x 8 columns]"
      ]
     },
     "execution_count": 120,
     "metadata": {},
     "output_type": "execute_result"
    }
   ],
   "source": [
    "weather_df.head()"
   ]
  },
  {
   "cell_type": "code",
   "execution_count": 121,
   "id": "44d1379f-4aa2-4e4c-8c3f-64d20f042329",
   "metadata": {},
   "outputs": [
    {
     "data": {
      "text/plain": [
       "0    2012-01-01 00:00:00\n",
       "1    2012-01-01 01:00:00\n",
       "Name: Date/Time, dtype: object"
      ]
     },
     "execution_count": 121,
     "metadata": {},
     "output_type": "execute_result"
    }
   ],
   "source": [
    "weather_df['Date/Time'].head(2)"
   ]
  },
  {
   "cell_type": "code",
   "execution_count": 122,
   "id": "bb38da87-238a-4fd9-a205-7d22bfde0176",
   "metadata": {},
   "outputs": [],
   "source": [
    "weather_df['Date/Time']=pd.to_datetime(weather_df['Date/Time'])"
   ]
  },
  {
   "cell_type": "code",
   "execution_count": 123,
   "id": "e5711b1d-5861-49ba-9583-88f9a4cacaec",
   "metadata": {},
   "outputs": [
    {
     "data": {
      "text/plain": [
       "0   2012-01-01 00:00:00\n",
       "1   2012-01-01 01:00:00\n",
       "2   2012-01-01 02:00:00\n",
       "3   2012-01-01 03:00:00\n",
       "4   2012-01-01 04:00:00\n",
       "Name: Date/Time, dtype: datetime64[ns]"
      ]
     },
     "execution_count": 123,
     "metadata": {},
     "output_type": "execute_result"
    }
   ],
   "source": [
    "weather_df['Date/Time'].head()"
   ]
  },
  {
   "cell_type": "code",
   "execution_count": 124,
   "id": "0c5d3cad-c67b-4aa5-9e15-b4f1ffd4c284",
   "metadata": {},
   "outputs": [
    {
     "name": "stdout",
     "output_type": "stream",
     "text": [
      "<class 'pandas.core.frame.DataFrame'>\n",
      "RangeIndex: 8784 entries, 0 to 8783\n",
      "Data columns (total 8 columns):\n",
      " #   Column              Non-Null Count  Dtype         \n",
      "---  ------              --------------  -----         \n",
      " 0   Date/Time           8784 non-null   datetime64[ns]\n",
      " 1   Temp (C)            8784 non-null   float64       \n",
      " 2   Dew Point Temp (C)  8784 non-null   float64       \n",
      " 3   Rel Hum (%)         8784 non-null   int64         \n",
      " 4   Wind Spd (km/h)     8784 non-null   int64         \n",
      " 5   Visibility (km)     8784 non-null   float64       \n",
      " 6   Stn Press (kPa)     8784 non-null   float64       \n",
      " 7   Weather             8784 non-null   object        \n",
      "dtypes: datetime64[ns](1), float64(4), int64(2), object(1)\n",
      "memory usage: 549.1+ KB\n"
     ]
    }
   ],
   "source": [
    "weather_df.info()"
   ]
  },
  {
   "cell_type": "code",
   "execution_count": 126,
   "id": "7583397a-3001-40aa-9a3f-629b73ff7a6a",
   "metadata": {},
   "outputs": [
    {
     "data": {
      "text/html": [
       "<div>\n",
       "<style scoped>\n",
       "    .dataframe tbody tr th:only-of-type {\n",
       "        vertical-align: middle;\n",
       "    }\n",
       "\n",
       "    .dataframe tbody tr th {\n",
       "        vertical-align: top;\n",
       "    }\n",
       "\n",
       "    .dataframe thead th {\n",
       "        text-align: right;\n",
       "    }\n",
       "</style>\n",
       "<table border=\"1\" class=\"dataframe\">\n",
       "  <thead>\n",
       "    <tr style=\"text-align: right;\">\n",
       "      <th></th>\n",
       "      <th>Date/Time</th>\n",
       "      <th>Temp (C)</th>\n",
       "      <th>Dew Point Temp (C)</th>\n",
       "      <th>Rel Hum (%)</th>\n",
       "      <th>Wind Spd (km/h)</th>\n",
       "      <th>Visibility (km)</th>\n",
       "      <th>Stn Press (kPa)</th>\n",
       "      <th>Weather</th>\n",
       "    </tr>\n",
       "  </thead>\n",
       "  <tbody>\n",
       "    <tr>\n",
       "      <th>0</th>\n",
       "      <td>2012-01-01 00:00:00</td>\n",
       "      <td>-1.8</td>\n",
       "      <td>-3.9</td>\n",
       "      <td>86</td>\n",
       "      <td>4</td>\n",
       "      <td>8.0</td>\n",
       "      <td>101.24</td>\n",
       "      <td>Fog</td>\n",
       "    </tr>\n",
       "    <tr>\n",
       "      <th>1</th>\n",
       "      <td>2012-01-01 01:00:00</td>\n",
       "      <td>-1.8</td>\n",
       "      <td>-3.7</td>\n",
       "      <td>87</td>\n",
       "      <td>4</td>\n",
       "      <td>8.0</td>\n",
       "      <td>101.24</td>\n",
       "      <td>Fog</td>\n",
       "    </tr>\n",
       "  </tbody>\n",
       "</table>\n",
       "</div>"
      ],
      "text/plain": [
       "            Date/Time  Temp (C)  Dew Point Temp (C)  ...  Visibility (km)  Stn Press (kPa)  Weather\n",
       "0 2012-01-01 00:00:00      -1.8                -3.9  ...              8.0           101.24      Fog\n",
       "1 2012-01-01 01:00:00      -1.8                -3.7  ...              8.0           101.24      Fog\n",
       "\n",
       "[2 rows x 8 columns]"
      ]
     },
     "execution_count": 126,
     "metadata": {},
     "output_type": "execute_result"
    }
   ],
   "source": [
    "weather_df.head(2)"
   ]
  },
  {
   "cell_type": "code",
   "execution_count": 127,
   "id": "dded74b6-f1cd-4ea0-8295-947f8f0ff28b",
   "metadata": {},
   "outputs": [
    {
     "data": {
      "text/html": [
       "<div>\n",
       "<style scoped>\n",
       "    .dataframe tbody tr th:only-of-type {\n",
       "        vertical-align: middle;\n",
       "    }\n",
       "\n",
       "    .dataframe tbody tr th {\n",
       "        vertical-align: top;\n",
       "    }\n",
       "\n",
       "    .dataframe thead th {\n",
       "        text-align: right;\n",
       "    }\n",
       "</style>\n",
       "<table border=\"1\" class=\"dataframe\">\n",
       "  <thead>\n",
       "    <tr style=\"text-align: right;\">\n",
       "      <th></th>\n",
       "      <th>Date/Time</th>\n",
       "      <th>Temp (C)</th>\n",
       "      <th>Dew Point Temp (C)</th>\n",
       "      <th>Rel Hum (%)</th>\n",
       "      <th>Wind Spd (km/h)</th>\n",
       "      <th>Visibility (km)</th>\n",
       "      <th>Stn Press (kPa)</th>\n",
       "      <th>Weather</th>\n",
       "    </tr>\n",
       "  </thead>\n",
       "  <tbody>\n",
       "    <tr>\n",
       "      <th>8782</th>\n",
       "      <td>2012-12-31 22:00:00</td>\n",
       "      <td>-0.2</td>\n",
       "      <td>-1.8</td>\n",
       "      <td>89</td>\n",
       "      <td>28</td>\n",
       "      <td>9.7</td>\n",
       "      <td>99.91</td>\n",
       "      <td>Snow</td>\n",
       "    </tr>\n",
       "    <tr>\n",
       "      <th>8783</th>\n",
       "      <td>2012-12-31 23:00:00</td>\n",
       "      <td>0.0</td>\n",
       "      <td>-2.1</td>\n",
       "      <td>86</td>\n",
       "      <td>30</td>\n",
       "      <td>11.3</td>\n",
       "      <td>99.89</td>\n",
       "      <td>Snow</td>\n",
       "    </tr>\n",
       "  </tbody>\n",
       "</table>\n",
       "</div>"
      ],
      "text/plain": [
       "               Date/Time  Temp (C)  Dew Point Temp (C)  ...  Visibility (km)  Stn Press (kPa)  Weather\n",
       "8782 2012-12-31 22:00:00      -0.2                -1.8  ...              9.7            99.91     Snow\n",
       "8783 2012-12-31 23:00:00       0.0                -2.1  ...             11.3            99.89     Snow\n",
       "\n",
       "[2 rows x 8 columns]"
      ]
     },
     "execution_count": 127,
     "metadata": {},
     "output_type": "execute_result"
    }
   ],
   "source": [
    "weather_df.tail(2)"
   ]
  },
  {
   "cell_type": "code",
   "execution_count": 128,
   "id": "1a5813a3-a219-41d1-a79b-f1749e5a4b4b",
   "metadata": {},
   "outputs": [
    {
     "data": {
      "text/plain": [
       "array(['Fog', 'Freezing Drizzle,Fog', 'Mostly Cloudy', 'Cloudy', 'Rain',\n",
       "       'Rain Showers', 'Mainly Clear', 'Snow Showers', 'Snow', 'Clear',\n",
       "       'Freezing Rain,Fog', 'Freezing Rain', 'Freezing Drizzle',\n",
       "       'Rain,Snow', 'Moderate Snow', 'Freezing Drizzle,Snow',\n",
       "       'Freezing Rain,Snow Grains', 'Snow,Blowing Snow', 'Freezing Fog',\n",
       "       'Haze', 'Rain,Fog', 'Drizzle,Fog', 'Drizzle',\n",
       "       'Freezing Drizzle,Haze', 'Freezing Rain,Haze', 'Snow,Haze',\n",
       "       'Snow,Fog', 'Snow,Ice Pellets', 'Rain,Haze', 'Thunderstorms,Rain',\n",
       "       'Thunderstorms,Rain Showers', 'Thunderstorms,Heavy Rain Showers',\n",
       "       'Thunderstorms,Rain Showers,Fog', 'Thunderstorms',\n",
       "       'Thunderstorms,Rain,Fog',\n",
       "       'Thunderstorms,Moderate Rain Showers,Fog', 'Rain Showers,Fog',\n",
       "       'Rain Showers,Snow Showers', 'Snow Pellets', 'Rain,Snow,Fog',\n",
       "       'Moderate Rain,Fog', 'Freezing Rain,Ice Pellets,Fog',\n",
       "       'Drizzle,Ice Pellets,Fog', 'Drizzle,Snow', 'Rain,Ice Pellets',\n",
       "       'Drizzle,Snow,Fog', 'Rain,Snow Grains', 'Rain,Snow,Ice Pellets',\n",
       "       'Snow Showers,Fog', 'Moderate Snow,Blowing Snow'], dtype=object)"
      ]
     },
     "execution_count": 128,
     "metadata": {},
     "output_type": "execute_result"
    }
   ],
   "source": [
    "weather_df['Weather'].unique()"
   ]
  },
  {
   "cell_type": "code",
   "execution_count": 129,
   "id": "6c7b00c7-2590-4d1c-ae24-a27aaf392c7d",
   "metadata": {},
   "outputs": [
    {
     "data": {
      "text/plain": [
       "RangeIndex(start=0, stop=8784, step=1)"
      ]
     },
     "execution_count": 129,
     "metadata": {},
     "output_type": "execute_result"
    }
   ],
   "source": [
    "weather_df.index"
   ]
  },
  {
   "cell_type": "code",
   "execution_count": 131,
   "id": "d84ee5c4-5342-4585-be64-901ac1758156",
   "metadata": {},
   "outputs": [
    {
     "name": "stdout",
     "output_type": "stream",
     "text": [
      "<class 'pandas.core.series.Series'>\n",
      "RangeIndex: 8784 entries, 0 to 8783\n",
      "Series name: Wind Spd (km/h)\n",
      "Non-Null Count  Dtype\n",
      "--------------  -----\n",
      "8784 non-null   int64\n",
      "dtypes: int64(1)\n",
      "memory usage: 68.8 KB\n"
     ]
    }
   ],
   "source": [
    "weather_df['Wind Spd (km/h)'].info()"
   ]
  },
  {
   "cell_type": "code",
   "execution_count": 134,
   "id": "98bb1ba1-f731-4e37-a808-62dd5ed81c01",
   "metadata": {},
   "outputs": [
    {
     "data": {
      "text/plain": [
       "<bound method Series.unique of 0        4\n",
       "1        4\n",
       "2        7\n",
       "3        6\n",
       "4        7\n",
       "        ..\n",
       "8779    30\n",
       "8780    24\n",
       "8781    28\n",
       "8782    28\n",
       "8783    30\n",
       "Name: Wind Spd (km/h), Length: 8784, dtype: int64>"
      ]
     },
     "execution_count": 134,
     "metadata": {},
     "output_type": "execute_result"
    }
   ],
   "source": [
    "weather_df['Wind Spd (km/h)'].unique"
   ]
  },
  {
   "cell_type": "code",
   "execution_count": 135,
   "id": "2397c8ad-68dc-4ac6-b691-f8b341748917",
   "metadata": {},
   "outputs": [
    {
     "data": {
      "text/plain": [
       "50"
      ]
     },
     "execution_count": 135,
     "metadata": {},
     "output_type": "execute_result"
    }
   ],
   "source": [
    "weather_df['Weather'].nunique()"
   ]
  },
  {
   "cell_type": "code",
   "execution_count": 136,
   "id": "0a3418e0-95ce-44e8-9e00-5d616cddd09f",
   "metadata": {},
   "outputs": [
    {
     "data": {
      "text/plain": [
       "Weather\n",
       "Mainly Clear                               2106\n",
       "Mostly Cloudy                              2069\n",
       "Cloudy                                     1728\n",
       "Clear                                      1326\n",
       "Snow                                        390\n",
       "Rain                                        306\n",
       "Rain Showers                                188\n",
       "Fog                                         150\n",
       "Rain,Fog                                    116\n",
       "Drizzle,Fog                                  80\n",
       "Snow Showers                                 60\n",
       "Drizzle                                      41\n",
       "Snow,Fog                                     37\n",
       "Snow,Blowing Snow                            19\n",
       "Rain,Snow                                    18\n",
       "Thunderstorms,Rain Showers                   16\n",
       "Haze                                         16\n",
       "Drizzle,Snow,Fog                             15\n",
       "Freezing Rain                                14\n",
       "Freezing Drizzle,Snow                        11\n",
       "Freezing Drizzle                              7\n",
       "Freezing Drizzle,Fog                          6\n",
       "Snow,Ice Pellets                              6\n",
       "Snow,Haze                                     5\n",
       "Freezing Rain,Fog                             4\n",
       "Moderate Snow                                 4\n",
       "Rain,Snow,Ice Pellets                         4\n",
       "Freezing Fog                                  4\n",
       "Snow Showers,Fog                              4\n",
       "Thunderstorms,Rain Showers,Fog                3\n",
       "Thunderstorms,Rain                            3\n",
       "Freezing Drizzle,Haze                         3\n",
       "Rain,Haze                                     3\n",
       "Drizzle,Snow                                  2\n",
       "Moderate Snow,Blowing Snow                    2\n",
       "Thunderstorms                                 2\n",
       "Freezing Rain,Haze                            2\n",
       "Rain Showers,Snow Showers                     2\n",
       "Freezing Rain,Snow Grains                     1\n",
       "Thunderstorms,Heavy Rain Showers              1\n",
       "Thunderstorms,Moderate Rain Showers,Fog       1\n",
       "Thunderstorms,Rain,Fog                        1\n",
       "Freezing Rain,Ice Pellets,Fog                 1\n",
       "Moderate Rain,Fog                             1\n",
       "Rain,Snow,Fog                                 1\n",
       "Snow Pellets                                  1\n",
       "Rain Showers,Fog                              1\n",
       "Drizzle,Ice Pellets,Fog                       1\n",
       "Rain,Ice Pellets                              1\n",
       "Rain,Snow Grains                              1\n",
       "Name: count, dtype: int64"
      ]
     },
     "execution_count": 136,
     "metadata": {},
     "output_type": "execute_result"
    }
   ],
   "source": [
    "weather_df['Weather'].value_counts()"
   ]
  },
  {
   "cell_type": "code",
   "execution_count": 138,
   "id": "a4ff6097-0f41-4736-aefa-5024aa339f4f",
   "metadata": {},
   "outputs": [
    {
     "name": "stderr",
     "output_type": "stream",
     "text": [
      "C:\\Users\\prave\\AppData\\Local\\Temp\\ipykernel_32696\\564591758.py:1: FutureWarning: Series.__getitem__ treating keys as positions is deprecated. In a future version, integer keys will always be treated as labels (consistent with DataFrame behavior). To access a value by position, use `ser.iloc[pos]`\n",
      "  weather_df['Weather'].value_counts()[3]\n"
     ]
    },
    {
     "data": {
      "text/plain": [
       "np.int64(1326)"
      ]
     },
     "execution_count": 138,
     "metadata": {},
     "output_type": "execute_result"
    }
   ],
   "source": [
    "weather_df['Weather'].value_counts()[3]"
   ]
  },
  {
   "cell_type": "markdown",
   "id": "ac6af022-a84d-44db-b2e2-8f57f75d5f6a",
   "metadata": {},
   "source": [
    "- pandas are extension of numpy\n",
    "- pandas are combine of multiple numpy"
   ]
  },
  {
   "cell_type": "markdown",
   "id": "5f2117d6-29c1-4d35-bf31-30aaf2e86648",
   "metadata": {},
   "source": [
    "- a=[1,2,3,4,5]\n",
    "- b=['a','b','c','d','e']\n",
    "- a b\n",
    "- pandas dataframe {like table}\n",
    "- pandas series {those a and b}"
   ]
  },
  {
   "cell_type": "code",
   "execution_count": 1,
   "id": "e118160a-c135-4ae7-8f77-efa465968fce",
   "metadata": {},
   "outputs": [
    {
     "name": "stdout",
     "output_type": "stream",
     "text": [
      "Requirement already satisfied: pandas in c:\\users\\prave\\appdata\\local\\programs\\python\\python313\\lib\\site-packages (2.2.3)\n",
      "Requirement already satisfied: numpy>=1.26.0 in c:\\users\\prave\\appdata\\local\\programs\\python\\python313\\lib\\site-packages (from pandas) (2.2.6)\n",
      "Requirement already satisfied: python-dateutil>=2.8.2 in c:\\users\\prave\\appdata\\roaming\\python\\python313\\site-packages (from pandas) (2.9.0.post0)\n",
      "Requirement already satisfied: pytz>=2020.1 in c:\\users\\prave\\appdata\\local\\programs\\python\\python313\\lib\\site-packages (from pandas) (2025.2)\n",
      "Requirement already satisfied: tzdata>=2022.7 in c:\\users\\prave\\appdata\\local\\programs\\python\\python313\\lib\\site-packages (from pandas) (2025.2)\n",
      "Requirement already satisfied: six>=1.5 in c:\\users\\prave\\appdata\\roaming\\python\\python313\\site-packages (from python-dateutil>=2.8.2->pandas) (1.17.0)\n",
      "Note: you may need to restart the kernel to use updated packages.\n"
     ]
    },
    {
     "name": "stderr",
     "output_type": "stream",
     "text": [
      "\n",
      "[notice] A new release of pip is available: 25.0.1 -> 25.2\n",
      "[notice] To update, run: python.exe -m pip install --upgrade pip\n"
     ]
    }
   ],
   "source": [
    "pip install pandas"
   ]
  },
  {
   "cell_type": "code",
   "execution_count": null,
   "id": "47a9bfb8-2c60-4aef-b4b6-0a6242858f21",
   "metadata": {},
   "outputs": [],
   "source": []
  }
 ],
 "metadata": {
  "kernelspec": {
   "display_name": "Python 3 (ipykernel)",
   "language": "python",
   "name": "python3"
  },
  "language_info": {
   "codemirror_mode": {
    "name": "ipython",
    "version": 3
   },
   "file_extension": ".py",
   "mimetype": "text/x-python",
   "name": "python",
   "nbconvert_exporter": "python",
   "pygments_lexer": "ipython3",
   "version": "3.13.3"
  }
 },
 "nbformat": 4,
 "nbformat_minor": 5
}
